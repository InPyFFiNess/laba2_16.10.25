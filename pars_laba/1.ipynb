{
 "cells": [
  {
   "cell_type": "code",
   "execution_count": 84,
   "id": "d9b4a1ba",
   "metadata": {},
   "outputs": [],
   "source": [
    "from selenium import webdriver\n",
    "from selenium.webdriver.common.by import By\n",
    "from selenium.webdriver.common.keys import Keys\n",
    "import pandas as pd\n",
    "import time\n",
    "from bs4 import BeautifulSoup\n",
    "from selenium.webdriver.support.ui import WebDriverWait\n",
    "from selenium.webdriver.support import expected_conditions as EC\n",
    "from selenium.webdriver.chrome.options import Options\n",
    "from selenium.webdriver.chrome.service import Service\n",
    "import random\n",
    "from concurrent.futures import ThreadPoolExecutor\n",
    "import threading\n",
    "import re\n",
    "\n",
    "chrome_version = random.randint(110, 140)\n",
    "windows_version = random.randint(10, 11)\n",
    "opts = Options()\n",
    "opts.add_argument(f\"user-agent=Mozilla/5.0 (Windows NT {windows_version}.0; Win64; x64) AppleWebKit/537.36 (KHTML, like Gecko) Chrome/{chrome_version}.0.0.0 Safari/537.36\")\n",
    "\n",
    "driver = webdriver.Chrome(options=opts)\n",
    "data = []\n",
    "\n",
    "links_list = []\n",
    "\n"
   ]
  },
  {
   "cell_type": "code",
   "execution_count": 85,
   "id": "97712196",
   "metadata": {},
   "outputs": [],
   "source": [
    "driver.get('https://belavia.by/booking/#')"
   ]
  },
  {
   "cell_type": "code",
   "execution_count": 92,
   "id": "ff29b85a",
   "metadata": {},
   "outputs": [],
   "source": [
    "from_county = driver.find_element(By.CSS_SELECTOR, '#root > div.inner-1mUUA.inner__inner-377JM > div > div > form > div:nth-child(1) > div.segments-2_MOj.segments-3Ho24.alternative-2JxWI > div > div > div > div:nth-child(1) > div > div > input')\n",
    "from_county.click()\n",
    "from_county.send_keys('Минск')\n",
    "driver.find_element(By.CLASS_NAME, value='label-D365g').click()"
   ]
  },
  {
   "cell_type": "code",
   "execution_count": 102,
   "id": "6f047207",
   "metadata": {},
   "outputs": [],
   "source": [
    "to_city = driver.find_element(By.CSS_SELECTOR, '#root > div.inner-1mUUA.inner__inner-377JM > div > div > form > div:nth-child(1) > div.segments-2_MOj.segments-3Ho24.alternative-2JxWI > div > div > div > div.cell-iwglb.cell-1PZIX.cell_location-2RvhJ.cell_location-1cHks.cell_location_arrival-1bMPd > div > input')\n",
    "to_city.click()\n",
    "to_city.send_keys('Москва')\n",
    "labels = driver.find_elements(By.CLASS_NAME, 'label-D365g')\n",
    "for label in labels:\n",
    "    if label.text == 'Москва':\n",
    "        label.click()\n",
    "        break"
   ]
  },
  {
   "cell_type": "code",
   "execution_count": 109,
   "id": "e67b518e",
   "metadata": {},
   "outputs": [],
   "source": [
    "date = driver.find_element(By.CSS_SELECTOR, '#root > div.inner-1mUUA.inner__inner-377JM > div > div > form > div:nth-child(1) > div.segments-2_MOj.segments-3Ho24.alternative-2JxWI > div > div > div > div.cell-iwglb.cell-1PZIX.cell_date-3b7Yk.cell_date-144rD > div > div > div > div > span.placeholder-3gtgX.placeholder-cZzDV')\n",
    "date.click()\n",
    "choose_date = driver.find_element(By.CSS_SELECTOR, '#root > div.inner-1mUUA.inner__inner-377JM > div > div > form > div:nth-child(1) > div.segments-2_MOj.segments-3Ho24.alternative-2JxWI > div > div > div > div.cell-iwglb.cell-1PZIX.cell_date-3b7Yk.cell_date-144rD > div > div.popup-15edQ.popup-3hNCz.popup_withoutTabs-arvWe > div.content-23l0u.content-24GD3 > div.block-1LKe3.block-1LKe3 > div > div > div:nth-child(1) > div.monthWrapper-1bC4p.monthWrapper-1bC4p.monthWrapper-1HcnT > div:nth-child(4) > div:nth-child(1)')\n",
    "choose_date.click()\n",
    "oneway = driver.find_element(By.CSS_SELECTOR, '#root > div.inner-1mUUA.inner__inner-377JM > div > div > form > div:nth-child(1) > div.segments-2_MOj.segments-3Ho24.alternative-2JxWI > div > div > div > div.cell-iwglb.cell-1PZIX.cell_date-3b7Yk.cell_date-144rD > div > div.popup-15edQ.popup-3hNCz.popup_withoutTabs-arvWe > div.footer-IBTuW.footer-2myok > div > button.root-1LfbW.smallThird-3I8Kz.MuiButton-root.MuiButton-text.MuiButton-textPrimary.MuiButton-sizeMedium.MuiButton-textSizeMedium.MuiButton-disableElevation.MuiButtonBase-root.footer__done-iXB30.footer__done-1oLEc.css-1cy74wo')\n",
    "oneway.click()"
   ]
  },
  {
   "cell_type": "code",
   "execution_count": 110,
   "id": "e9c9b5db",
   "metadata": {},
   "outputs": [],
   "source": [
    "find_button = driver.find_element(By.CSS_SELECTOR, '#root > div.inner-1mUUA.inner__inner-377JM > div > div > form > div:nth-child(1) > div.controls-2b-jA.controls-3txk3.controls_withCurrency-3KMFu > div.startSearch-S4Zt3.startSearch-Ufhdb.startSearch_iconMode-GEPyG.startSearch_iconMode-25Fjg.startSearch_withCurrency-2ePKS.startSearch_withCurrency-3T0fS > button')\n",
    "find_button.click()"
   ]
  },
  {
   "cell_type": "code",
   "execution_count": 111,
   "id": "28483ff4",
   "metadata": {},
   "outputs": [
    {
     "name": "stdout",
     "output_type": "stream",
     "text": [
      "193.75Br\n"
     ]
    }
   ],
   "source": [
    "price = driver.find_element(By.CSS_SELECTOR, '#root > div.inner-1mUUA.inner__inner-377JM > div > div.inner-2BFYs.inner-1D6ql.results_withPromocodes-EQr4t > div.calendar-pJbfq > div.content-3uBrc > div > div > div.slider-yOS3h.slider-2n2Ba > div > div > div.dayWrapper-3RXmG.dayWrapper-3ITLw.dayWrapper_selected-1qSyX > div > div.price__wrapper-3WJKw.price__wrapper-5ilVX > span').text\n",
    "print(price)"
   ]
  }
 ],
 "metadata": {
  "kernelspec": {
   "display_name": "Python 3",
   "language": "python",
   "name": "python3"
  },
  "language_info": {
   "codemirror_mode": {
    "name": "ipython",
    "version": 3
   },
   "file_extension": ".py",
   "mimetype": "text/x-python",
   "name": "python",
   "nbconvert_exporter": "python",
   "pygments_lexer": "ipython3",
   "version": "3.12.3"
  }
 },
 "nbformat": 4,
 "nbformat_minor": 5
}
